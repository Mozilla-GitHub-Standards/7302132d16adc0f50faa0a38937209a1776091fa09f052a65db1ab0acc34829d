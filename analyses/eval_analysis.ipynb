{
 "cells": [
  {
   "cell_type": "markdown",
   "metadata": {},
   "source": [
    "# Eval and Function Analysis"
   ]
  },
  {
   "cell_type": "markdown",
   "metadata": {},
   "source": [
    "### Background Information\n",
    "In JavaScript, there are 2 methods a programmer can use to dynamically create a function using a string. The first is by calling the ```eval()``` function and the second is by creating a ```new Function()``` object and then calling that function object.  \n",
    "\n",
    "For example:\n",
    "\n",
    "```javascript\n",
    "eval(\"console.log('hello')\")\n",
    "\n",
    "var my_func = new Function(\"console.log('hello')\")\n",
    "my_func()\n",
    "```\n",
    "\n",
    "will print hello twice.\n",
    "\n",
    "For simplicity we will refer to using eval, rather than both eval and new Function, in this analysis.  Just note that both methods work similarly and pose similar problems to security and privacy.\n",
    "\n",
    "Using eval is generally considered bad practice as is opens developers code to injection attacks such as cross-site scripting attacks. Additionally eval can be used to hide malicious code written by web developers. Since the function calls are generated dynamically static code analysis techniques and manual inspection are less effective at identifying malicious code.  Finally, while not the focus of this analysis, there are issues with the performance of code generated with eval that make it a bad choice in general coding circumstances.\n",
    "\n",
    "Because eval is generally considered a bad practice, we examine webpages that use eval, in order to better understand the prevalence of eval in the web and how it is being used inside the webpages that decide to use eval.\n",
    "\n",
    "We base the majority of the analysis on a single sample of 10,000 random webpages. We also take 10 smaller samples of 5,000 webpages that is used to look for sampling biases in the analysis."
   ]
  },
  {
   "cell_type": "markdown",
   "metadata": {},
   "source": [
    "#### This notebook looks at 9 aspects of the \"script_loc_eval\" row in the crawl dataset:\n",
    "1. What % of total function calls are created using eval.\n",
    "2. What % of webpages use eval atleast once.\n",
    "3. The number of unique scripts that use eval.\n",
    "4. Out of the scripts on webpages that use eval, how many scripts are 3rd party scripts.\n",
    "5. Summary statistics about the # of eval calls per webpage.\n",
    "6. For all the webpages that use eval at least once, How many times is eval used by these webpages and what % of total function calls are eval calls.\n",
    "7. A visualization of the distribution of the # of eval calls.\n",
    "8. A visualization of the distribution of the % of function calls for a webpage that are created using eval.\n",
    "9. A visualization of the relationship between the # of eval calls and the % of function calls that are created using eval."
   ]
  },
  {
   "cell_type": "markdown",
   "metadata": {},
   "source": [
    "#### Through this analysis we found that:\n",
    "1. ~3.3% of functions are created using eval.\n",
    "2. ~9% of webpages use eval at least once. This observation is consistent between multiple samples as there is little variance.\n",
    "3. ~3% of scripts that use eval are unique and those scripts are part of a small number of domain entities.\n",
    "4. ~33% of scripts are hosted on 3rd party domains.\n",
    "5. Webpages tend to only have 1-3 function calls created using eval. However some webpages use eval significantly more often.\n",
    "6. Webpages tend to either have all of their function calls created using eval, or a few functions created using eval.\n",
    "7. There is no correlation between the # of eval calls and the % of function calls that are created using eval."
   ]
  },
  {
   "cell_type": "code",
   "execution_count": 1,
   "metadata": {
    "collapsed": false
   },
   "outputs": [],
   "source": [
    "import sys\n",
    "sys.path.append('..')\n",
    "\n",
    "import logging\n",
    "import matplotlib.pyplot as plt\n",
    "import pandas as pd\n",
    "import sample_data\n",
    "\n",
    "from utils import load_data_util\n",
    "\n",
    "%matplotlib inline"
   ]
  },
  {
   "cell_type": "code",
   "execution_count": 2,
   "metadata": {
    "collapsed": false,
    "scrolled": true
   },
   "outputs": [
    {
     "name": "stdout",
     "output_type": "stream",
     "text": [
      "Wall time: 52min\n"
     ]
    }
   ],
   "source": [
    "%%time\n",
    "# prevent printing of validation warning messages for cleaner output\n",
    "logging.getLogger(\"validator\").setLevel(logging.ERROR)\n",
    "\n",
    "files_to_analyze = 10000\n",
    "data = load_data_util.load_random_data(files_to_analyze, False, 42, False)"
   ]
  },
  {
   "cell_type": "markdown",
   "metadata": {},
   "source": [
    "#### Get 10 samples of 5000 webpages so we can analyze how our analysis differs between different samples."
   ]
  },
  {
   "cell_type": "code",
   "execution_count": 6,
   "metadata": {
    "collapsed": false
   },
   "outputs": [
    {
     "name": "stdout",
     "output_type": "stream",
     "text": [
      "Wall time: 4h 14min 29s\n"
     ]
    }
   ],
   "source": [
    "%%time\n",
    "# prevent printing of validation warning messages for cleaner output\n",
    "logging.getLogger(\"validator\").setLevel(logging.ERROR)\n",
    "\n",
    "samples_files_to_analyze = 5000\n",
    "seeds = [-12, 0, 90, 6258, 73, 1111, 20000, 7512, 2222, 4567]\n",
    "samples = [\n",
    "    load_data_util.load_random_data(samples_files_to_analyze, False, seed, False, False) \n",
    "    for seed in seeds\n",
    "]\n"
   ]
  },
  {
   "cell_type": "markdown",
   "metadata": {},
   "source": [
    "#### Define a helper function to get the top level domain from a url using the [disconnectme](https://github.com/disconnectme/disconnect-tracking-protection) entity list."
   ]
  },
  {
   "cell_type": "code",
   "execution_count": 3,
   "metadata": {
    "collapsed": false
   },
   "outputs": [],
   "source": [
    "# retrieve the entity list from github and store it in a json object.\n",
    "entity_list = sample_data.make_entity_list_df()\n",
    "\n",
    "def get_top_level_domain_entity(url):\n",
    "    \"\"\"Returns the domain entity that the url belongs to if it can be found in the disconnectme entity list. \n",
    "    If the url cannot be found in the entity list then the empty string is returned. \n",
    "    url -- a url for a webpage. Ex. \"https://github.com/issues\"\n",
    "    \"\"\"\n",
    "    for index, row in entity_list.iterrows():\n",
    "        for site in row[\"resources\"]:\n",
    "            match_found = sample_data.find_url_match(url, site)\n",
    "            if match_found and match_found != \"IrregularUrl\":\n",
    "                return row.name\n",
    "            elif match_found == \"IrregularUrl\":\n",
    "                # Not possible to find match for irregular url, so return.\n",
    "                return \"\"\n",
    "\n",
    "    # no match could be found to return the url.\n",
    "    return \"\""
   ]
  },
  {
   "cell_type": "markdown",
   "metadata": {},
   "source": [
    "## Process the data by building a dictionary with webpage urls as keys and eval information as the values."
   ]
  },
  {
   "cell_type": "code",
   "execution_count": 4,
   "metadata": {
    "collapsed": false
   },
   "outputs": [],
   "source": [
    "def process_results(data_frame):\n",
    "    \"\"\"Processes the data retrieved from S3. Returns a JSON object with webpage urls \n",
    "    as keys and the processed results as values.\n",
    "    data_frame -- A Pandas DataFrame that contains S3 JSON data from multiple webpages.\n",
    "    \"\"\"\n",
    "    result = {}\n",
    "    for index, row in data_frame.iterrows():\n",
    "        # get the url of the webpage that was being crawled and use thafat as a unique key.\n",
    "        key = row['location']\n",
    "\n",
    "        if key not in result:\n",
    "            result[key] = {\n",
    "                \"domain entity\": get_top_level_domain_entity(key),\n",
    "                \"count\": 0,\n",
    "                \"total_func_calls\": 0,\n",
    "                \"script_urls\": {}\n",
    "            }\n",
    "\n",
    "        if row['script_loc_eval'] != \"\":\n",
    "            result[key][\"count\"] += 1\n",
    "\n",
    "            script_url = row['script_url']\n",
    "            result[key][\"script_urls\"][script_url] = result[key][\"script_urls\"].get(script_url, 1) + 1\n",
    "        result[key][\"total_func_calls\"] += 1\n",
    "        \n",
    "    return result"
   ]
  },
  {
   "cell_type": "code",
   "execution_count": 5,
   "metadata": {
    "collapsed": false
   },
   "outputs": [],
   "source": [
    "result = process_results(data)"
   ]
  },
  {
   "cell_type": "code",
   "execution_count": 7,
   "metadata": {
    "collapsed": false
   },
   "outputs": [],
   "source": [
    "sample_results = [process_results(sample_data) for sample_data in samples]"
   ]
  },
  {
   "cell_type": "markdown",
   "metadata": {},
   "source": [
    "## Analyze the collected data to get:\n",
    "* The number of function calls created using eval.\n",
    "* The total number of function calls.\n",
    "* The number of webpages with atleast 1 eval call.\n",
    "* The number of scripts that use eval and have a different domain name than the webpage calling that script.\n",
    "* The number of scripts that use eval and are not hosted on the same domain entity as the webpage calling that script.\n",
    "* A list with all the scripts that have functions created using eval.\n",
    "* A DataFrame with the url for webpages that have 1 or more function created using eval. The DataFrame contains the # of eval calls for that webpage and the % of function calls that were created using eval."
   ]
  },
  {
   "cell_type": "code",
   "execution_count": 49,
   "metadata": {
    "collapsed": false
   },
   "outputs": [],
   "source": [
    "class EvalAnalyzer:\n",
    "    \"\"\"Analyzes data from processed webpage data and stores the analysis for later use.\n",
    "    \"\"\"\n",
    "    def __init__(self, result):\n",
    "        \"\"\"Initializes the objects variables, along with Analyzing the \n",
    "        result object and storing that analysis data for later use.\n",
    "        result -- JSON object with processed S3 webpage data.\n",
    "        \"\"\"\n",
    "        self.webpages_with_eval_calls = 0\n",
    "        self.external_script_count = 0\n",
    "        self.external_domain_entity_count = 0\n",
    "        self.script_urls = []\n",
    "        self.eval_using_script_count = 0\n",
    "        self.total_function_calls = 0\n",
    "        self.webpages_analyzed = len(result)\n",
    "        self.eval_usage = pd.DataFrame(columns=['url', '# of eval calls', '% of eval calls'])\n",
    "        \n",
    "        self.analyze(result)\n",
    "        \n",
    "    def analyze(self, result):\n",
    "        \"\"\"Analyzes the result object and stores the analysis data in member variables for later use.\n",
    "        result -- JSON object with processed S3 webpage data.\n",
    "        \"\"\"\n",
    "        for key in result:\n",
    "            self.total_function_calls += result[key]['total_func_calls']\n",
    "            if result[key]['count'] > 0:\n",
    "                self.webpages_with_eval_calls += 1\n",
    "\n",
    "                self.eval_call_count = result[key]['count']\n",
    "                self.eval_call_percent = round(result[key]['count'] / result[key]['total_func_calls'] * 100, 2)\n",
    "\n",
    "                self.eval_usage = self.eval_usage.append({\n",
    "                    \"url\": key,\n",
    "                    \"# of eval calls\": self.eval_call_count,\n",
    "                    \"% of eval calls\": self.eval_call_percent\n",
    "                }, ignore_index=True)\n",
    "\n",
    "                for script_url in result[key][\"script_urls\"]:\n",
    "                    self.script_urls.append(script_url)\n",
    "                    self.eval_using_script_count += result[key][\"script_urls\"][script_url]\n",
    "                    \n",
    "                    location_domain_entity = result[key][\"domain entity\"] if result[key][\"domain entity\"] != \"\" else key\n",
    "                    script_domain_entity = get_top_level_domain_entity(script_url)\n",
    "                    \n",
    "                    if (location_domain_entity != script_domain_entity) and (not sample_data.find_url_match(key, script_url)):\n",
    "                        self.external_domain_entity_count += result[key][\"script_urls\"][script_url]\n",
    "                    if not sample_data.find_url_match(key, script_url):\n",
    "                        self.external_script_count += result[key][\"script_urls\"][script_url]\n",
    "\n",
    "        # set '# of eval calls' to be int type since it was being set to object type.\n",
    "        # without this change later analysis and visualizations do not work.\n",
    "        self.eval_usage['# of eval calls'] = self.eval_usage['# of eval calls'].astype(\"int\")"
   ]
  },
  {
   "cell_type": "code",
   "execution_count": 50,
   "metadata": {
    "collapsed": false
   },
   "outputs": [],
   "source": [
    "analysis = EvalAnalyzer(result)"
   ]
  },
  {
   "cell_type": "code",
   "execution_count": 51,
   "metadata": {
    "collapsed": false
   },
   "outputs": [
    {
     "name": "stdout",
     "output_type": "stream",
     "text": [
      "irregular script_url:  data:text/javascript,eval(mod_pagespeed_kd38%24NxVpB)%3B\n",
      "irregular script_url:  data:text/javascript,eval(mod_pagespeed_sgVXYq9OQ3)%3B\n",
      "irregular script_url:  data:text/javascript,eval(mod_pagespeed_qv6weZiEH4)%3B\n",
      "irregular script_url:  data:text/javascript,eval(mod_pagespeed_bdXcYBOsVm)%3B\n",
      "irregular script_url:  data:text/javascript,eval(mod_pagespeed_6N23NffyO4)%3B\n"
     ]
    }
   ],
   "source": [
    "sample_analyses = [EvalAnalyzer(sample) for sample in sample_results]"
   ]
  },
  {
   "cell_type": "markdown",
   "metadata": {},
   "source": [
    "## Examine the % of function calls are created using eval."
   ]
  },
  {
   "cell_type": "markdown",
   "metadata": {},
   "source": [
    "Before doing further analysis we want to see how prevalent eval is on the web."
   ]
  },
  {
   "cell_type": "code",
   "execution_count": 52,
   "metadata": {
    "collapsed": false
   },
   "outputs": [
    {
     "name": "stdout",
     "output_type": "stream",
     "text": [
      "3.31% (18657/563300) of total function calls are created using eval.\n"
     ]
    }
   ],
   "source": [
    "function_calls_created_with_eval_percentage = round(analysis.eval_using_script_count / analysis.total_function_calls * 100, 2)\n",
    "\n",
    "print(\n",
    "    str(function_calls_created_with_eval_percentage) + \"% (\" +\n",
    "    str(analysis.eval_using_script_count) + \"/\" + str(analysis.total_function_calls) +\n",
    "    \") of total function calls are created using eval.\"\n",
    ")"
   ]
  },
  {
   "cell_type": "markdown",
   "metadata": {},
   "source": [
    "This shows that a small, but significant, portion of function calls are created using eval."
   ]
  },
  {
   "cell_type": "markdown",
   "metadata": {},
   "source": [
    "## Examine the % of webpages that have 1 or more function created using eval."
   ]
  },
  {
   "cell_type": "code",
   "execution_count": 53,
   "metadata": {
    "collapsed": false
   },
   "outputs": [],
   "source": [
    "def get_percentage_of_webpages_with_eval_calls(analysis):\n",
    "    \"\"\"Returns the percentage of total webpages in the analysis that have 1 or more eval call.\n",
    "    analysis -- EvalAnalysis object created by analyzing multiple webpages.\n",
    "    \"\"\"\n",
    "    return round(analysis.webpages_with_eval_calls / analysis.webpages_analyzed * 100, 2)\n",
    "\n",
    "def print_percentage_of_webpages_with_eval_calls(analysis):\n",
    "    \"\"\"Prints the % and number of webpages with 1 or more eval call.\n",
    "    analysis -- EvalAnalysis object created by analyzing multiple webpages.\n",
    "    \"\"\"\n",
    "    percentage_of_webpages_with_eval_calls = get_percentage_of_webpages_with_eval_calls(analysis)\n",
    "\n",
    "    print(\n",
    "        str(percentage_of_webpages_with_eval_calls) + \"% (\" + \n",
    "        str(analysis.webpages_with_eval_calls) + \"/\" + str(analysis.webpages_analyzed) + \n",
    "        \") of webpages have 1 or more function that is created using eval.\"\n",
    "    )"
   ]
  },
  {
   "cell_type": "markdown",
   "metadata": {},
   "source": [
    "#### Display information for our single, large dataset. "
   ]
  },
  {
   "cell_type": "code",
   "execution_count": 54,
   "metadata": {
    "collapsed": false
   },
   "outputs": [
    {
     "name": "stdout",
     "output_type": "stream",
     "text": [
      "8.92% (890/9972) of webpages have 1 or more function that is created using eval.\n"
     ]
    }
   ],
   "source": [
    "print_percentage_of_webpages_with_eval_calls(analysis)"
   ]
  },
  {
   "cell_type": "markdown",
   "metadata": {},
   "source": [
    "#### Display information for our multiple smaller samples and compare it with the larger sample."
   ]
  },
  {
   "cell_type": "code",
   "execution_count": 55,
   "metadata": {
    "collapsed": false
   },
   "outputs": [
    {
     "name": "stdout",
     "output_type": "stream",
     "text": [
      "8.67% is the mean % of webpages with 1 or more function created using eval.\n",
      "0.25% is the difference between our single large sample and the mean of multiple smaller samples.\n",
      "0.15% is the variance of the % of webpages with 1 or more function created using eval.\n",
      "0.38% is the standard deviation of the % of webpages with 1 or more function created using eval.\n"
     ]
    }
   ],
   "source": [
    "percentage_of_eval_webpages_with_eval_calls_in_samples = pd.Series([\n",
    "    get_percentage_of_webpages_with_eval_calls(analysis) \n",
    "    for analysis in sample_analyses\n",
    "])\n",
    "\n",
    "sample_percent_mean = round(percentage_of_eval_webpages_with_eval_calls_in_samples.mean(), 2)\n",
    "sample_percent_difference = abs(get_percentage_of_webpages_with_eval_calls(analysis) - sample_percent_mean)\n",
    "sample_percent_variance = round(percentage_of_eval_webpages_with_eval_calls_in_samples.var(), 2)\n",
    "sample_percent_standard_deviation = round(percentage_of_eval_webpages_with_eval_calls_in_samples.std(), 2)\n",
    "    \n",
    "print(str(sample_percent_mean) + \"% is the mean % of webpages with 1 or more function created using eval.\")\n",
    "print(str(sample_percent_difference) + \n",
    "    \"% is the difference between our single large sample and the mean of multiple smaller samples.\"\n",
    ")\n",
    "print(str(sample_percent_variance) + \"% is the variance of the % of webpages with 1 or more function created using eval.\")\n",
    "print(str(sample_percent_standard_deviation) + \n",
    "    \"% is the standard deviation of the % of webpages with 1 or more function created using eval.\"\n",
    ")"
   ]
  },
  {
   "cell_type": "markdown",
   "metadata": {
    "collapsed": false
   },
   "source": [
    "We can see that ~9% of webpages use eval and that the number of webpages using eval does not change much between samples.  This shows that while a majority of webpages do not use eval at all, a significant number of webpages still do make use of eval. Thus we continue our analysis to see how eval is being used on these webpages that use eval."
   ]
  },
  {
   "cell_type": "markdown",
   "metadata": {},
   "source": [
    "## Examine what % of the scripts that use eval are unique."
   ]
  },
  {
   "cell_type": "markdown",
   "metadata": {
    "collapsed": false
   },
   "source": [
    "Next we want to see if all of the functions that use eval are located on the same scripts, or different scripts. We accomplish this by examining how many unique script urls are in the script url list created earlier. We also look at script urls that are part of a one of the disconnectme domain entities and how many of those are unique."
   ]
  },
  {
   "cell_type": "code",
   "execution_count": 56,
   "metadata": {
    "collapsed": true
   },
   "outputs": [],
   "source": [
    "def get_percentage(numerator, denominator):\n",
    "    \"\"\"Returns the percentage value of the numerator divided by the denominator, rounded to 2 decimal places.  \n",
    "    numerator -- the top value in a percentage calculation.\n",
    "    denominator -- the bottom value in a percentage calculation.\n",
    "    \"\"\"\n",
    "    return round(numerator / denominator * 100, 2)\n",
    "\n",
    "def get_number_of_script_urls(analysis):\n",
    "    \"\"\"Returns the number of script urls in the anaylsis.\n",
    "    analysis -- EvalAnalysis object created by analyzing multiple webpages.\n",
    "    \"\"\"\n",
    "    return analysis.eval_using_script_count\n",
    "\n",
    "def get_number_of_unique_script_urls(analysis):\n",
    "    \"\"\"Returns the number of unique script urls in the analysis.\n",
    "    analysis -- EvalAnalysis object created by analyzing multiple webpages.\n",
    "    \"\"\"\n",
    "    unique_script_urls = set(analysis.script_urls)\n",
    "    return len(unique_script_urls)\n",
    "\n",
    "def get_script_domain_entities(analysis):\n",
    "    \"\"\"Returns a list of the top level domain entities for each script urls in the analysis.\n",
    "    The top level domain and retrieved from the disconnectme entity list.\n",
    "    analysis -- EvalAnalysis object created by analyzing multiple webpages.\n",
    "    \"\"\"\n",
    "    script_domain_entities = []\n",
    "    \n",
    "    for url in set(analysis.script_urls):\n",
    "        domain_entity = get_top_level_domain_entity(url)\n",
    "        if domain_entity != \"\":\n",
    "            script_domain_entities.append(domain_entity)\n",
    "            \n",
    "    return script_domain_entities\n",
    "\n",
    "def get_number_of_script_domain_entities(script_domain_entities):\n",
    "    \"\"\"Returns the number of script domain entities in the array.\n",
    "    script_domain_entities -- an array with domain entity values in it retrieved from the disconnectme entity list.\n",
    "    \"\"\"\n",
    "    return len(script_domain_entities)\n",
    "\n",
    "def get_number_of_unique_script_domain_entities(script_domain_entities):\n",
    "    \"\"\"Returns the number of unique script domain entities in the array.\n",
    "    script_domain_entities -- an array with domain entity values in it retrieved from the disconnectme entity list.\n",
    "    \"\"\"\n",
    "    unique_script_domain_entities = set(script_domain_entities)\n",
    "    return len(unique_script_domain_entities)"
   ]
  },
  {
   "cell_type": "code",
   "execution_count": 57,
   "metadata": {
    "collapsed": false
   },
   "outputs": [],
   "source": [
    "number_of_script_urls = get_number_of_script_urls(analysis)\n",
    "number_of_unique_script_urls = get_number_of_unique_script_urls(analysis)\n",
    "\n",
    "script_domain_entities = get_script_domain_entities(analysis)\n",
    "\n",
    "number_of_script_domain_entities = get_number_of_script_domain_entities(script_domain_entities)        \n",
    "number_of_unique_script_domain_entities = get_number_of_unique_script_domain_entities(script_domain_entities)\n",
    "\n",
    "# calculate the percentages\n",
    "percentage_of_unique_script_urls = get_percentage(number_of_unique_script_urls, number_of_script_urls)\n",
    "percentage_of_script_domain_entities = get_percentage(number_of_script_domain_entities, number_of_unique_script_urls)\n",
    "percentage_of_unqiue_script_domain_entities = get_percentage(\n",
    "    number_of_unique_script_domain_entities, \n",
    "    number_of_script_domain_entities\n",
    ")"
   ]
  },
  {
   "cell_type": "code",
   "execution_count": 58,
   "metadata": {
    "collapsed": false
   },
   "outputs": [
    {
     "name": "stdout",
     "output_type": "stream",
     "text": [
      "18657 function calls are created using eval in this sample.\n",
      "2.95% (551/18657) of the scripts that use eval are unique.\n",
      "41.74% (230/551) of those unqique scripts are part of a domain entity in the disconnectme entity list.\n",
      "10.43% (24/230) of those domain entities are unique.\n"
     ]
    }
   ],
   "source": [
    "print(str(number_of_script_urls) + \" function calls are created using eval in this sample.\")\n",
    "\n",
    "print(\n",
    "    str(percentage_of_unique_script_urls) + \"% (\" + \n",
    "    str(number_of_unique_script_urls) + \"/\" + str(number_of_script_urls) + \n",
    "    \") of the scripts that use eval are unique.\"\n",
    ")\n",
    "\n",
    "print(\n",
    "    str(percentage_of_script_domain_entities) + \"% (\" + \n",
    "    str(number_of_script_domain_entities) + \"/\" + str(number_of_unique_script_urls) + \n",
    "    \") of those unqique scripts are part of a domain entity in the disconnectme entity list.\"\n",
    ")\n",
    "\n",
    "print(\n",
    "    str(percentage_of_unqiue_script_domain_entities) + \"% (\" + \n",
    "    str(number_of_unique_script_domain_entities) + \"/\" + str(number_of_script_domain_entities) + \n",
    "    \") of those domain entities are unique.\"\n",
    ")\n"
   ]
  },
  {
   "cell_type": "markdown",
   "metadata": {},
   "source": [
    "We observe that only ~3% of scripts that use eval are unique.  This indicates that the same scripts are being used by a number of web pages, and those scripts use eval to create some of their functions. \n",
    "\n",
    "Only ~40% of the unique script urls could be found in the disconnectme list.  This indicates that the majority of script urls that use eval are not hosted on common web tracker domains.\n",
    "\n",
    "When duplicates are removed from the list of domain entities we can see that only 24 domain entities are left.  This indicates that the list of actual trackers that use eval is small."
   ]
  },
  {
   "cell_type": "code",
   "execution_count": 59,
   "metadata": {
    "collapsed": false
   },
   "outputs": [
    {
     "name": "stdout",
     "output_type": "stream",
     "text": [
      "irregular script_url:  data:text/javascript,eval(mod_pagespeed_sgVXYq9OQ3)%3B\n",
      "irregular script_url:  data:text/javascript,eval(mod_pagespeed_kd38%24NxVpB)%3B\n",
      "irregular script_url:  data:text/javascript,eval(mod_pagespeed_bdXcYBOsVm)%3B\n",
      "irregular script_url:  data:text/javascript,eval(mod_pagespeed_6N23NffyO4)%3B\n",
      "irregular script_url:  data:text/javascript,eval(mod_pagespeed_qv6weZiEH4)%3B\n"
     ]
    }
   ],
   "source": [
    "mean_number_of_script_urls = pd.Series([\n",
    "        get_number_of_script_urls(sample_analysis) \n",
    "        for sample_analysis in sample_analyses\n",
    "]).mean()\n",
    "\n",
    "# get the # and % of script urls that are unique\n",
    "mean_number_of_unique_script_urls = pd.Series([\n",
    "        get_number_of_unique_script_urls(sample_analysis) \n",
    "        for sample_analysis in sample_analyses \n",
    "]).mean()\n",
    "\n",
    "mean_percentage_of_unique_script_urls = round(pd.Series([\n",
    "        get_percentage(get_number_of_unique_script_urls(sample_analysis), get_number_of_script_urls(sample_analysis))\n",
    "        for sample_analysis in sample_analyses \n",
    "]).mean(), 2)\n",
    "\n",
    "# get a list of script domain entities to be used for later calculations\n",
    "sample_script_domain_entities = [\n",
    "        get_script_domain_entities(sample_analysis)\n",
    "        for sample_analysis in sample_analyses \n",
    "]\n",
    "\n",
    "# get the mean # and % of script urls that correspond to a domain entity\n",
    "mean_number_of_script_domain_entities = pd.Series([\n",
    "        get_number_of_script_domain_entities(domain_entity)\n",
    "        for domain_entity in sample_script_domain_entities\n",
    "]).mean()\n",
    "\n",
    "mean_percentage_of_script_domain_entities = round(pd.Series([\n",
    "        get_percentage(\n",
    "            get_number_of_script_domain_entities(domain_entity),\n",
    "            mean_number_of_unique_script_urls\n",
    "        )\n",
    "        for domain_entity in sample_script_domain_entities\n",
    "]).mean(), 2)\n",
    "\n",
    "\n",
    "\n",
    "# get the mean # and % of script urls that correspond to a unique domain entity\n",
    "mean_number_of_unique_script_domain_entities = pd.Series([\n",
    "        get_number_of_unique_script_domain_entities(domain_entity)\n",
    "        for domain_entity in sample_script_domain_entities\n",
    "]).mean()\n",
    "\n",
    "mean_percentage_of_unique_script_domain_entities = round(pd.Series([\n",
    "        get_percentage(\n",
    "            get_number_of_unique_script_domain_entities(domain_entity), \n",
    "            get_number_of_script_domain_entities(domain_entity)\n",
    "        )\n",
    "        for domain_entity in sample_script_domain_entities\n",
    "]).mean(), 2)\n"
   ]
  },
  {
   "cell_type": "code",
   "execution_count": 60,
   "metadata": {
    "collapsed": false,
    "scrolled": true
   },
   "outputs": [
    {
     "name": "stdout",
     "output_type": "stream",
     "text": [
      "10543.2 is the mean number of function calls created using eval in the samples.\n",
      "3.01% (306.8/10543.2) is the mean number of unique script urls in the sample.\n",
      "38.92% (119.4/306.8) is the mean number of domain entities in the unique script urls for our samples.\n",
      "16.61% (19.8/119.4) is the mean number of unique domain entities.\n"
     ]
    }
   ],
   "source": [
    "print(str(mean_number_of_script_urls) + \" is the mean number of function calls created using eval in the samples.\")\n",
    "\n",
    "print(\n",
    "    str(mean_percentage_of_unique_script_urls) + \"% (\" + \n",
    "    str(mean_number_of_unique_script_urls) + \"/\" + str(mean_number_of_script_urls) + \n",
    "    \") is the mean number of unique script urls in the sample.\"\n",
    ")\n",
    "\n",
    "print(\n",
    "    str(mean_percentage_of_script_domain_entities) + \"% (\" + \n",
    "    str(mean_number_of_script_domain_entities) + \"/\" + str(mean_number_of_unique_script_urls) + \n",
    "    \") is the mean number of domain entities in the unique script urls for our samples.\"\n",
    ")\n",
    "\n",
    "print(\n",
    "    str(mean_percentage_of_unique_script_domain_entities) + \"% (\" + \n",
    "    str(mean_number_of_unique_script_domain_entities) + \"/\" + str(mean_number_of_script_domain_entities) + \n",
    "    \") is the mean number of unique domain entities.\"\n",
    ")"
   ]
  },
  {
   "cell_type": "markdown",
   "metadata": {},
   "source": [
    "The number of function calls, unique scripts, and domain entities are similar to what we would expect based on the earlier sample. The number of unique domain entities however only decreases by 4, despite the samples looking at half as many webpages.  This indicates that a small number of domain entities are hosting the scripts that use eval, and that those same trackers are present even in smaller sample sizes."
   ]
  },
  {
   "cell_type": "markdown",
   "metadata": {},
   "source": [
    "## Examine the number of scripts that are hosted on a 3rd parties domain."
   ]
  },
  {
   "cell_type": "markdown",
   "metadata": {},
   "source": [
    "Next we want to see if scripts that use eval are hosted externally. This can show us whether webpages are knowingly using eval in their own code, or if they are using someone else's scripts which use eval, likely without the webpage developers knowledge."
   ]
  },
  {
   "cell_type": "code",
   "execution_count": 61,
   "metadata": {
    "collapsed": false
   },
   "outputs": [
    {
     "name": "stdout",
     "output_type": "stream",
     "text": [
      "35.6% (6642/18657) of scripts that use eval are hosted on a different domain than the source webpage.\n",
      "33.89% (6323/18657) of scripts that use eval are part of a different domain entity than the webpage, or have a different domain name than the source webpage.\n"
     ]
    }
   ],
   "source": [
    "total_script_urls = get_number_of_script_urls(analysis)\n",
    "percentage_of_external_scripts = round(analysis.external_script_count / total_script_urls * 100, 2)\n",
    "\n",
    "print(\n",
    "    str(percentage_of_external_scripts) + \"% (\" + \n",
    "    str(analysis.external_script_count) + \"/\" + str(total_script_urls) + \n",
    "    \") of scripts that use eval are hosted on a different domain than the source webpage.\"\n",
    ")\n",
    "\n",
    "\n",
    "percentage_of_external_domain_entity_scripts = round(analysis.external_domain_entity_count / total_script_urls * 100, 2)\n",
    "print(\n",
    "    str(percentage_of_external_domain_entity_scripts) + \"% (\" + \n",
    "    str(analysis.external_domain_entity_count) + \"/\" + str(total_script_urls) + \n",
    "    \") of scripts that use eval are part of a different domain entity than the webpage,\" + \n",
    "    \" or have a different domain name than the source webpage.\"\n",
    ")"
   ]
  },
  {
   "cell_type": "markdown",
   "metadata": {},
   "source": [
    "Around one thirds of scripts are hosted on a different domain than the webpage that calls the script. This holds true when looking at domain entities as well."
   ]
  },
  {
   "cell_type": "markdown",
   "metadata": {},
   "source": [
    "## Print summary statistics for # of eval calls"
   ]
  },
  {
   "cell_type": "code",
   "execution_count": 62,
   "metadata": {
    "collapsed": false
   },
   "outputs": [
    {
     "name": "stdout",
     "output_type": "stream",
     "text": [
      "median = 3.0\n",
      "standard deviation = 85.91\n",
      "average = 19.84\n"
     ]
    }
   ],
   "source": [
    "standard_deviation = round(analysis.eval_usage['# of eval calls'].std(), 2)\n",
    "mean = round(analysis.eval_usage['# of eval calls'].mean(), 2)\n",
    "median = round(analysis.eval_usage['# of eval calls'].median(), 2)\n",
    "\n",
    "print('median = ' + str(median))\n",
    "print('standard deviation = ' + str(standard_deviation))\n",
    "print('average = ' + str(mean))"
   ]
  },
  {
   "cell_type": "markdown",
   "metadata": {},
   "source": [
    "The median number of eval calls is low, indicating that most webpages have few eval calls on them.  Since the standard deviation is large we can see that there is a some outliers that have a large number of eval calls."
   ]
  },
  {
   "cell_type": "markdown",
   "metadata": {},
   "source": [
    "## Display the number of eval calls and % of function calls that are created using eval for all the webpages with 1 or more eval calls."
   ]
  },
  {
   "cell_type": "markdown",
   "metadata": {},
   "source": [
    "To get a top level view of the out large sample we display all the webpages with the number of eval calls on them and % of total function calls that are created using eval."
   ]
  },
  {
   "cell_type": "code",
   "execution_count": 63,
   "metadata": {
    "collapsed": false
   },
   "outputs": [
    {
     "name": "stdout",
     "output_type": "stream",
     "text": [
      "                                                   url  # of eval calls  % of eval calls\n",
      "76         https://www.rezultati.com/nogomet/portugal/             1213            90.66\n",
      "156  https://www.flashscore.pl/pilka-nozna/honduras...             1074            91.95\n",
      "764  https://www.canliskor3.com/futbol/avrupa/sampi...              994            92.47\n",
      "734  https://www.flashscore.com/soccer/netherlands/...              876            86.48\n",
      "73   https://www.mismarcadores.com/futbol/espana/la...              833            88.43\n",
      "163         https://www.soccerstand.com/soccer/uganda/              600            84.63\n",
      "595    http://www.marksandspencer.com/l/lingerie/socks              427            54.95\n",
      "106  https://particuliers.lcl.fr/quotidien/gestion-...              412            74.91\n",
      "486          https://www.myscore.com.ua/football/peru/              360            82.57\n",
      "121           https://www.flashscore.com/soccer/world/              348            81.50\n",
      "501     https://www.flashscore.pl/pilka-nozna/boliwia/              340            83.33\n",
      "415    https://www.meusresultados.com/futebol/turquia/              340            83.33\n",
      "850  https://www.westpac.com.au/about-westpac/200-y...              243            55.23\n",
      "849              http://www.gameinformer.com/news.aspx              216            42.86\n",
      "327                      https://review.rakuten.co.jp/              213            79.18\n",
      "536            https://www.rd.com/advice/saving-money/              152            55.47\n",
      "447        http://www.thinkgeek.com/interests/tolkien/              142            40.69\n",
      "97   http://www.thinkgeek.com/accessories/jewelry/b...              142            40.69\n",
      "211  http://www.thinkgeek.com/electronics-gadgets/m...              142            40.69\n",
      "24               http://www.thinkgeek.com/accessories/              142            40.69\n",
      "719   https://www.smbc-card.com/nyukai/card/ginren.jsp              142            68.27\n",
      "223  https://newsroom.mastercard.com/asia-pacific/p...              137            94.48\n",
      "592  https://webbroker.td.com/waw/idp/login.htm?exe...              132            53.88\n",
      "506  http://www.japannetbank.co.jp/help/index.html?...              130            84.97\n",
      "659  https://www.snapdeal.com/products/home-furnish...              119            19.29\n",
      "664                   https://www.newyorker.com/latest              119            10.60\n",
      "332  https://www.snapdeal.com/products/led-bulbs?so...              117            18.08\n",
      "110  http://www.topshop.com/en/tsuk/category/bags-a...              116             6.33\n",
      "358             https://ryohin-keikaku.jp/?area=footer              113            80.71\n",
      "750  https://www.paypal-community.com/t5/user/viewp...              110            54.46\n",
      "..                                                 ...              ...              ...\n",
      "389  http://craftapponline.com/restricted/?id=25970...                1            25.00\n",
      "391  https://googleads.g.doubleclick.net/pagead/ads...                1           100.00\n",
      "392  http://www.asos.com/women/a-to-z-of-brands/noi...                1             0.18\n",
      "395  https://www.officeworks.com.au/shop/officework...                1             0.12\n",
      "483  https://googleads.g.doubleclick.net/pagead/ads...                1           100.00\n",
      "473  https://googleads.g.doubleclick.net/pagead/ads...                1           100.00\n",
      "470  https://googleads.g.doubleclick.net/pagead/ads...                1           100.00\n",
      "469                http://www.onlinedown.net/sort/201/                1             3.12\n",
      "464  https://googleads.g.doubleclick.net/pagead/ads...                1           100.00\n",
      "462  https://googleads.g.doubleclick.net/pagead/ads...                1           100.00\n",
      "459  https://googleads.g.doubleclick.net/pagead/ads...                1           100.00\n",
      "457  https://www.evite.com/c/evite-guest-etiquette?...                1             1.37\n",
      "444  https://www.crateandbarrel.com/customer-servic...                1            33.33\n",
      "442  https://tpc.googlesyndication.com/sadbundle/$c...                1           100.00\n",
      "440  https://list.tmall.com/search_product.htm?spm=...                1             0.88\n",
      "439  https://googleads.g.doubleclick.net/pagead/ads...                1           100.00\n",
      "438  https://googleads.g.doubleclick.net/pagead/ads...                1           100.00\n",
      "437  https://retail-pi.usps.com/retailpi/actions/in...                1             0.99\n",
      "434  https://googleads.g.doubleclick.net/pagead/ads...                1           100.00\n",
      "431  http://sporza.be/cm/sporza/zaal/basketbal/1.30...                1             8.33\n",
      "428  https://tpc.googlesyndication.com/sadbundle/$c...                1           100.00\n",
      "425  https://googleads.g.doubleclick.net/pagead/ads...                1             3.12\n",
      "422             http://www.9ku.com/zhuanji/taste72.htm                1           100.00\n",
      "421                 https://www.focus.de/kultur/musik/                1             0.91\n",
      "417  http://rutrk.org/iframe/MG-2/MG-bottom.html?rn...                1             5.88\n",
      "416  https://googleads.g.doubleclick.net/pagead/ads...                1           100.00\n",
      "401  https://www.jomashop.com/handbags-accessories-...                1            12.50\n",
      "397  https://www.bestbuy.ca/en-ca/category/ink-tone...                1            16.67\n",
      "396  http://rutrk.org/iframe/MG-2/MG-bottom.html?rn...                1             5.88\n",
      "445  https://googleads.g.doubleclick.net/pagead/ren...                1           100.00\n",
      "\n",
      "[890 rows x 3 columns]\n"
     ]
    }
   ],
   "source": [
    "print(analysis.eval_usage.sort_values(by=['# of eval calls'], ascending=False))"
   ]
  },
  {
   "cell_type": "markdown",
   "metadata": {},
   "source": [
    "## Visualize how many webpages have a given number of eval calls."
   ]
  },
  {
   "cell_type": "code",
   "execution_count": 64,
   "metadata": {
    "collapsed": false
   },
   "outputs": [
    {
     "data": {
      "image/png": "[encoded data removed]",
      "text/plain": [
       "<matplotlib.figure.Figure at 0x2218dc8fa20>"
      ]
     },
     "metadata": {},
     "output_type": "display_data"
    }
   ],
   "source": [
    "largest_eval_call_count = analysis.eval_usage['# of eval calls'].max()\n",
    "plt.figure()\n",
    "\n",
    "fig = analysis.eval_usage['# of eval calls'].plot.hist(bins=largest_eval_call_count)\n",
    "\n",
    "plt.title(\"Distribution of # of eval calls\")\n",
    "fig.set_xlabel(\"# of eval calls\")\n",
    "\n",
    "plt.show()\n",
    "plt.close()"
   ]
  },
  {
   "cell_type": "markdown",
   "metadata": {},
   "source": [
    "Since the number of eval calls are so spread out, we cannot see much from the above graph other than that the majority of webpages have a low number of eval calls.  Thus, to better visualize the data, we create a second histogram that looks at the frequency of webpages where the number of eval calls is 2 standard deviations above 0. Since a large number of webpages only have 1 eval call, we use a log scale so that all the data can be seen."
   ]
  },
  {
   "cell_type": "code",
   "execution_count": 65,
   "metadata": {
    "collapsed": false,
    "scrolled": false
   },
   "outputs": [
    {
     "data": {
      "image/png": "[encoded data removed]",
      "text/plain": [
       "<matplotlib.figure.Figure at 0x2218d98ea90>"
      ]
     },
     "metadata": {},
     "output_type": "display_data"
    }
   ],
   "source": [
    "plt.figure()\n",
    "\n",
    "fig = analysis.eval_usage['# of eval calls'].plot.hist(alpha=0.5, bins=largest_eval_call_count)\n",
    "\n",
    "plt.title(\"Distribution of # of eval calls\")\n",
    "fig.set_xlabel(\"# of eval calls\")\n",
    "plt.yscale('log')\n",
    "fig.set_xlim(1, int(standard_deviation * 2))\n",
    "fig.grid()\n",
    "\n",
    "plt.show()\n",
    "plt.close()"
   ]
  },
  {
   "cell_type": "markdown",
   "metadata": {},
   "source": [
    "Since the standard deviation is large we look at the first 1/4th of a standard deviation of eval calls to better visualize the histogram bins."
   ]
  },
  {
   "cell_type": "code",
   "execution_count": 66,
   "metadata": {
    "collapsed": false
   },
   "outputs": [
    {
     "data": {
      "image/png": "[encoded data removed]",
      "text/plain": [
       "<matplotlib.figure.Figure at 0x21f268fa2e8>"
      ]
     },
     "metadata": {},
     "output_type": "display_data"
    }
   ],
   "source": [
    "plt.figure()\n",
    "\n",
    "fig = analysis.eval_usage['# of eval calls'].plot.hist(alpha=0.5, bins=largest_eval_call_count)\n",
    "\n",
    "plt.title(\"Distribution of # of eval calls\")\n",
    "fig.set_xlabel(\"# of eval calls\")\n",
    "fig.set_xlim(1, int(standard_deviation / 4))\n",
    "fig.grid();\n",
    "\n",
    "plt.show()\n",
    "plt.close()"
   ]
  },
  {
   "cell_type": "markdown",
   "metadata": {},
   "source": [
    "We can now see that most webpages only make 1 or 2 eval calls."
   ]
  },
  {
   "cell_type": "markdown",
   "metadata": {},
   "source": [
    "## Visualize the distribution of the % of function calls, created using eval, that the webpages make."
   ]
  },
  {
   "cell_type": "code",
   "execution_count": 67,
   "metadata": {
    "collapsed": false
   },
   "outputs": [
    {
     "data": {
      "image/png": "[encoded data removed]",
      "text/plain": [
       "<matplotlib.figure.Figure at 0x21f268fa978>"
      ]
     },
     "metadata": {},
     "output_type": "display_data"
    }
   ],
   "source": [
    "plt.figure()\n",
    "\n",
    "fig = analysis.eval_usage['% of eval calls'].plot.hist(bins=100)\n",
    "\n",
    "plt.title(\"Distribution of % of Functions Calls Created using Eval\")\n",
    "fig.set_xlabel(\"% of eval calls\")\n",
    "\n",
    "plt.show()\n",
    "plt.close()"
   ]
  },
  {
   "cell_type": "markdown",
   "metadata": {},
   "source": [
    "This shows that most webpages either have a few of their function calls created using eval, or all of the functions created using eval."
   ]
  },
  {
   "cell_type": "markdown",
   "metadata": {},
   "source": [
    "## Visualize the relationship between the number of eval calls and the % of functions on the webpage that are created using eval."
   ]
  },
  {
   "cell_type": "code",
   "execution_count": 68,
   "metadata": {
    "collapsed": false
   },
   "outputs": [
    {
     "data": {
      "text/plain": [
       "<matplotlib.figure.Figure at 0x221c6bf3390>"
      ]
     },
     "metadata": {},
     "output_type": "display_data"
    },
    {
     "data": {
      "image/png": "[encoded data removed]",
      "text/plain": [
       "<matplotlib.figure.Figure at 0x22192486d68>"
      ]
     },
     "metadata": {},
     "output_type": "display_data"
    }
   ],
   "source": [
    "plt.figure()\n",
    "\n",
    "fig = analysis.eval_usage.plot.scatter(x='# of eval calls', y='% of eval calls');\n",
    "\n",
    "plt.title(\"# Eval Calls vs. % of Calls Created with Eval\")\n",
    "# set the x and y bounds so that they are slightly less than 1 so that the dots can be seen better.\n",
    "fig.set_xlim(-20)\n",
    "fig.set_ylim(-5)\n",
    "\n",
    "plt.show()\n",
    "plt.close()"
   ]
  },
  {
   "cell_type": "markdown",
   "metadata": {},
   "source": [
    "The above graph shows that there is a low correlation between the # of eval calls and % of total calls created using eval."
   ]
  }
 ],
 "metadata": {
  "anaconda-cloud": {},
  "kernelspec": {
   "display_name": "Python [default]",
   "language": "python",
   "name": "python3"
  },
  "language_info": {
   "codemirror_mode": {
    "name": "ipython",
    "version": 3
   },
   "file_extension": ".py",
   "mimetype": "text/x-python",
   "name": "python",
   "nbconvert_exporter": "python",
   "pygments_lexer": "ipython3",
   "version": "3.5.2"
  }
 },
 "nbformat": 4,
 "nbformat_minor": 1
}
